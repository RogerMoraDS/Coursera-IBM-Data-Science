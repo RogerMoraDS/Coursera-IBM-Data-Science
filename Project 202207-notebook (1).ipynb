{
 "cells": [
  {
   "cell_type": "markdown",
   "metadata": {
    "collapsed": true
   },
   "source": [
    "# My Jupyter Notebook on IBM Watson Studio"
   ]
  },
  {
   "cell_type": "markdown",
   "metadata": {},
   "source": [
    "**Rogelio Pavel Mora Garrido**\n",
    "\n",
    "Economist"
   ]
  },
  {
   "cell_type": "markdown",
   "metadata": {},
   "source": [
    "_Im interested in Data Science because I work with large amounts of Data in my current job and this course will help me to improve my skills also because I like to use Data to give meaningfull insights_"
   ]
  },
  {
   "cell_type": "markdown",
   "metadata": {},
   "source": [
    "### The following code will multiply by 5 any number that you enter"
   ]
  },
  {
   "cell_type": "code",
   "execution_count": 12,
   "metadata": {},
   "outputs": [
    {
     "name": "stdout",
     "output_type": "stream",
     "text": [
      "Enter Your Number:345\n",
      "1725\n"
     ]
    }
   ],
   "source": [
    "number = int(input(\"Enter Your Number:\"))\n",
    "\n",
    "print(number * 5)\n",
    "    "
   ]
  },
  {
   "cell_type": "markdown",
   "metadata": {},
   "source": [
    "Comparison operators in python:\n",
    "\n",
    "---\n",
    "\n",
    "| Operator      | Name          | \n",
    "| :------------- |:-------------:| \n",
    "| ==      | Equal | \n",
    "| !=      | Not Equal     | \n",
    "| >       | Greater than  |\n",
    "| <       | Less than     |\n",
    "| >=      | Greater than or equal to  |\n",
    "| <=      | Less tha or equal to      |\n",
    "\n",
    "---\n",
    "\n",
    "For more Python Operators visit: [Python Operators](https://www.w3schools.com/python/python_operators.asp) \n",
    "\n",
    "_Note: open link in new window_\n",
    "<img src=\"https://wprock.fr/ezoimgfmt/assets.wprock.fr/emoji/joypixels/512/1f44d.png\" width=\"70\" height=\"70\">"
   ]
  }
 ],
 "metadata": {
  "kernelspec": {
   "display_name": "Python 3",
   "language": "python",
   "name": "python3"
  },
  "language_info": {
   "codemirror_mode": {
    "name": "ipython",
    "version": 3
   },
   "file_extension": ".py",
   "mimetype": "text/x-python",
   "name": "python",
   "nbconvert_exporter": "python",
   "pygments_lexer": "ipython3",
   "version": "3.8.8"
  }
 },
 "nbformat": 4,
 "nbformat_minor": 1
}
