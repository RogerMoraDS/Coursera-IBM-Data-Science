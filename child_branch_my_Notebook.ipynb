## adding a new file in child branch
print("this is a branch in my current project")

#add this easy equation

num_one = 100
num_two = 150

total_nums = num_one + num_two
print(total_nums)
